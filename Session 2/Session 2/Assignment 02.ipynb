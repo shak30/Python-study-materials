{
 "cells": [
  {
   "cell_type": "markdown",
   "metadata": {},
   "source": [
    "# Assignment No 2"
   ]
  },
  {
   "cell_type": "raw",
   "metadata": {},
   "source": [
    "Ques1: Take two integer from the user and print greatest among them."
   ]
  },
  {
   "cell_type": "code",
   "execution_count": 1,
   "metadata": {},
   "outputs": [
    {
     "name": "stdout",
     "output_type": "stream",
     "text": [
      "6\n"
     ]
    }
   ],
   "source": [
    "#Answer1\n",
    "a=2\n",
    "b=6\n",
    "if(a>b):\n",
    "    print(a)\n",
    "else:\n",
    "    print(b)"
   ]
  },
  {
   "cell_type": "raw",
   "metadata": {},
   "source": [
    "Ques2: Write the code for ques 1 using ternary if statement "
   ]
  },
  {
   "cell_type": "code",
   "execution_count": 2,
   "metadata": {},
   "outputs": [
    {
     "data": {
      "text/plain": [
       "8"
      ]
     },
     "execution_count": 2,
     "metadata": {},
     "output_type": "execute_result"
    }
   ],
   "source": [
    "#Answer2\n",
    "a=4\n",
    "b=8\n",
    "a if a>b else b"
   ]
  },
  {
   "cell_type": "raw",
   "metadata": {},
   "source": [
    "Ques3:\n",
    "A student will not be allowed to sit in exam if his/her attendence is:\n",
    "less than 80%. for Science student \n",
    "less than 75%. for Commerce student \n",
    "less than 70%. for Arts student\n",
    "\n",
    "No of classes held are 50\n",
    "\n",
    "Take following input from user\n",
    "1. Branch (Science, Commerce, Arts )\n",
    "2. Number of classes attended.\n",
    "\n",
    "And print:\n",
    "1. percentage of class attended\n",
    "2. If student is allowed to sit in exam or not."
   ]
  },
  {
   "cell_type": "code",
   "execution_count": 2,
   "metadata": {},
   "outputs": [
    {
     "name": "stdout",
     "output_type": "stream",
     "text": [
      "enter course:Arts\n",
      "enter classes:45\n",
      "percentage of class attended 90.0\n",
      "allowed\n"
     ]
    }
   ],
   "source": [
    "#Answer3\n",
    "\n",
    "\n",
    "def student_status(branch,classes):\n",
    "    a=classes*100/50\n",
    "    print(\"percentage of class attended\",a)\n",
    "    if(a>80 and branch=='Science'):\n",
    "        print('allowed')\n",
    "    elif(a>75 and branch=='Commerce'):\n",
    "        print('allowed')\n",
    "    elif(a>70 and branch=='Arts'):\n",
    "        print('allowed')\n",
    "    else: \n",
    "        print('not allowed')\n",
    "\n",
    "    \n",
    "branch=input(\"enter course:\")\n",
    "classes=int(input('enter classes:'))\n",
    "student_status(branch,classes)    \n"
   ]
  },
  {
   "cell_type": "raw",
   "metadata": {},
   "source": [
    "Ques4: Write a function to convert temperatures to and from celsius, fahrenheit.\n",
    "Note: Input needs to provided by the user"
   ]
  },
  {
   "cell_type": "code",
   "execution_count": 5,
   "metadata": {},
   "outputs": [
    {
     "name": "stdout",
     "output_type": "stream",
     "text": [
      "enter to scale:celsius\n",
      "enter the temperature:32\n",
      "0.0 C\n"
     ]
    }
   ],
   "source": [
    "#Answer4\n",
    "def convert_temp(to_scale,temp):\n",
    "    if(to_scale=='celsius'):\n",
    "        a=((temp-32)*5)/9\n",
    "        print(a,'C')\n",
    "    elif(to_scale=='farenheit'):\n",
    "        a=(9*temp)/5+32\n",
    "        print(a,'F')\n",
    "        \n",
    "to_scale=input(\"enter to scale:\")\n",
    "temp=float(input(\"enter the temperature:\"))\n",
    "convert_temp(to_scale,temp)"
   ]
  },
  {
   "cell_type": "raw",
   "metadata": {},
   "source": [
    "Ques5: Write a Python function to create and print a list where the values are square of numbers between 1 and 30 (both included)."
   ]
  },
  {
   "cell_type": "code",
   "execution_count": 15,
   "metadata": {},
   "outputs": [
    {
     "name": "stdout",
     "output_type": "stream",
     "text": [
      "[1, 2, 3, 4, 5, 6, 7, 8, 9, 10, 11, 12, 13, 14, 15, 16, 17, 18, 19, 20, 21, 22, 23, 24, 25, 26, 27, 28, 29, 30]\n",
      "[1, 4, 9, 16, 25, 36, 49, 64, 81, 100, 121, 144, 169, 196, 225, 256, 289, 324, 361, 400, 441, 484, 529, 576, 625, 676, 729, 784, 841, 900]\n"
     ]
    }
   ],
   "source": [
    "#Answer5\n",
    "nat_num=[]\n",
    "for i in range(1,31,1):\n",
    "    nat_num.append(i)\n",
    "print(nat_num)\n",
    "\n",
    "sq_num=list(map(lambda x:x**2,nat_num))\n",
    "print(sq_num)"
   ]
  },
  {
   "cell_type": "raw",
   "metadata": {},
   "source": [
    "Ques6:\n",
    "Create a function Employee() in such a way that it should accept employee name, and of years of erperience and display both. If the 'years of erperience' is missing in the function call assign default value 0 to 'years of erperience'"
   ]
  },
  {
   "cell_type": "code",
   "execution_count": 33,
   "metadata": {},
   "outputs": [
    {
     "name": "stdout",
     "output_type": "stream",
     "text": [
      "enter employee name:sd\n",
      "enter years of experience:\n",
      "Employee name: sd\n",
      "Years of experience: \n",
      "Employee name: sd\n",
      "Years of experience: 0\n"
     ]
    }
   ],
   "source": [
    "#Answer6\n",
    "def Employee(name,exp_years=0):\n",
    "    print('Employee name:',name)\n",
    "    print('Years of experience:',exp_years)\n",
    "    \n",
    "name=input('enter employee name:')\n",
    "exp_years=input('enter years of experience:')\n",
    "Employee(name,exp_years)\n",
    "Employee(name)"
   ]
  },
  {
   "cell_type": "raw",
   "metadata": {},
   "source": [
    "Ques7 :  Create a functionin the following way\n",
    "    \n",
    "1. Create an outer function that will accept two parameters, a and b\n",
    "2. Create an inner function inside an outer function that will calculate the addition of a and b\n",
    "3. At last, an outer function will add 5 into addition and return it."
   ]
  },
  {
   "cell_type": "code",
   "execution_count": 44,
   "metadata": {},
   "outputs": [
    {
     "name": "stdout",
     "output_type": "stream",
     "text": [
      "enter number:4\n",
      "enter number:5\n"
     ]
    },
    {
     "data": {
      "text/plain": [
       "14"
      ]
     },
     "execution_count": 44,
     "metadata": {},
     "output_type": "execute_result"
    }
   ],
   "source": [
    "#Answer7\n",
    "def outer():\n",
    "    a=int(input('enter number:'))\n",
    "    b=int(input('enter number:'))\n",
    "    def inner(a,b):\n",
    "        return(a+b)\n",
    "    z=inner(a,b)\n",
    "    return z+5\n",
    "\n",
    "outer()"
   ]
  },
  {
   "cell_type": "raw",
   "metadata": {},
   "source": [
    "Ques8: Write a code using lambda function to sort the given list of students by their age.\n",
    "Students = [('Ashu', 21), ('Rohan', 31), ('Sahil', 17), ('Yash', 82)]"
   ]
  },
  {
   "cell_type": "code",
   "execution_count": 47,
   "metadata": {},
   "outputs": [],
   "source": [
    "#Answer8\n",
    "Students = [('Ashu', 21), ('Rohan', 31), ('Sahil', 17), ('Yash', 82)]"
   ]
  },
  {
   "cell_type": "code",
   "execution_count": 49,
   "metadata": {},
   "outputs": [
    {
     "data": {
      "text/plain": [
       "[('Sahil', 17), ('Ashu', 21), ('Rohan', 31), ('Yash', 82)]"
      ]
     },
     "execution_count": 49,
     "metadata": {},
     "output_type": "execute_result"
    }
   ],
   "source": [
    "Students.sort(key=lambda x:x[1])\n",
    "Students"
   ]
  },
  {
   "cell_type": "code",
   "execution_count": null,
   "metadata": {},
   "outputs": [],
   "source": []
  }
 ],
 "metadata": {
  "kernelspec": {
   "display_name": "Python 3",
   "language": "python",
   "name": "python3"
  },
  "language_info": {
   "codemirror_mode": {
    "name": "ipython",
    "version": 3
   },
   "file_extension": ".py",
   "mimetype": "text/x-python",
   "name": "python",
   "nbconvert_exporter": "python",
   "pygments_lexer": "ipython3",
   "version": "3.7.6"
  }
 },
 "nbformat": 4,
 "nbformat_minor": 2
}
